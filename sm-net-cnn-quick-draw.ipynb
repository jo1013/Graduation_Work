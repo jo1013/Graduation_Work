{
 "cells": [
  {
   "cell_type": "markdown",
   "metadata": {},
   "source": [
    "> **import 필요 모듈**"
   ]
  },
  {
   "cell_type": "markdown",
   "metadata": {},
   "source": [
    "데이터 불러오기 및 확인"
   ]
  },
  {
   "cell_type": "code",
   "execution_count": 1,
   "metadata": {
    "_cell_guid": "b1076dfc-b9ad-4769-8c92-a6c4dae69d19",
    "_uuid": "8f2839f25d086af736a60e9eeb907d3b93b6e0e5"
   },
   "outputs": [
    {
     "name": "stderr",
     "output_type": "stream",
     "text": [
      "Using TensorFlow backend.\n"
     ]
    },
    {
     "data": {
      "text/html": [
       "<div>\n",
       "<style scoped>\n",
       "    .dataframe tbody tr th:only-of-type {\n",
       "        vertical-align: middle;\n",
       "    }\n",
       "\n",
       "    .dataframe tbody tr th {\n",
       "        vertical-align: top;\n",
       "    }\n",
       "\n",
       "    .dataframe thead th {\n",
       "        text-align: right;\n",
       "    }\n",
       "</style>\n",
       "<table border=\"1\" class=\"dataframe\">\n",
       "  <thead>\n",
       "    <tr style=\"text-align: right;\">\n",
       "      <th></th>\n",
       "      <th>countrycode</th>\n",
       "      <th>drawing</th>\n",
       "      <th>key_id</th>\n",
       "      <th>recognized</th>\n",
       "      <th>timestamp</th>\n",
       "      <th>word</th>\n",
       "    </tr>\n",
       "  </thead>\n",
       "  <tbody>\n",
       "    <tr>\n",
       "      <th>0</th>\n",
       "      <td>US</td>\n",
       "      <td>[[[92, 91, 82, 69, 64, 56, 28, 15, 6, 0, 1, 18...</td>\n",
       "      <td>4745881255411712</td>\n",
       "      <td>True</td>\n",
       "      <td>2017-03-10 13:46:31.635970</td>\n",
       "      <td>sleeping bag</td>\n",
       "    </tr>\n",
       "    <tr>\n",
       "      <th>1</th>\n",
       "      <td>US</td>\n",
       "      <td>[[[52, 22, 12, 5, 1, 0, 5, 26, 149, 184, 230, ...</td>\n",
       "      <td>4859794726846464</td>\n",
       "      <td>False</td>\n",
       "      <td>2017-03-04 17:08:46.745630</td>\n",
       "      <td>sleeping bag</td>\n",
       "    </tr>\n",
       "    <tr>\n",
       "      <th>2</th>\n",
       "      <td>AU</td>\n",
       "      <td>[[[4, 3, 11, 22, 38, 63, 251, 255, 251, 252, 2...</td>\n",
       "      <td>4573190200229888</td>\n",
       "      <td>True</td>\n",
       "      <td>2017-03-17 06:36:27.083520</td>\n",
       "      <td>sleeping bag</td>\n",
       "    </tr>\n",
       "    <tr>\n",
       "      <th>3</th>\n",
       "      <td>BR</td>\n",
       "      <td>[[[4, 183, 191, 202, 204, 201, 189, 10, 3, 0, ...</td>\n",
       "      <td>5103637015560192</td>\n",
       "      <td>True</td>\n",
       "      <td>2017-03-26 20:34:57.242880</td>\n",
       "      <td>sleeping bag</td>\n",
       "    </tr>\n",
       "    <tr>\n",
       "      <th>4</th>\n",
       "      <td>US</td>\n",
       "      <td>[[[64, 67], [57, 114]], [[64, 91, 163], [57, 6...</td>\n",
       "      <td>6037379364159488</td>\n",
       "      <td>False</td>\n",
       "      <td>2017-03-01 01:39:06.642580</td>\n",
       "      <td>sleeping bag</td>\n",
       "    </tr>\n",
       "    <tr>\n",
       "      <th>...</th>\n",
       "      <td>...</td>\n",
       "      <td>...</td>\n",
       "      <td>...</td>\n",
       "      <td>...</td>\n",
       "      <td>...</td>\n",
       "      <td>...</td>\n",
       "    </tr>\n",
       "    <tr>\n",
       "      <th>119686</th>\n",
       "      <td>US</td>\n",
       "      <td>[[[11, 35, 107, 164, 198, 190, 188, 192, 182, ...</td>\n",
       "      <td>5773585861836800</td>\n",
       "      <td>True</td>\n",
       "      <td>2017-03-12 02:27:03.268360</td>\n",
       "      <td>sleeping bag</td>\n",
       "    </tr>\n",
       "    <tr>\n",
       "      <th>119687</th>\n",
       "      <td>US</td>\n",
       "      <td>[[[4, 29, 56, 136, 171, 185, 238, 254, 255, 24...</td>\n",
       "      <td>4697827487776768</td>\n",
       "      <td>True</td>\n",
       "      <td>2017-01-26 22:46:07.644720</td>\n",
       "      <td>sleeping bag</td>\n",
       "    </tr>\n",
       "    <tr>\n",
       "      <th>119688</th>\n",
       "      <td>FI</td>\n",
       "      <td>[[[230, 196, 174, 123, 23, 10], [18, 16, 6, 7,...</td>\n",
       "      <td>5566971963768832</td>\n",
       "      <td>True</td>\n",
       "      <td>2017-03-06 10:29:33.236430</td>\n",
       "      <td>sleeping bag</td>\n",
       "    </tr>\n",
       "    <tr>\n",
       "      <th>119689</th>\n",
       "      <td>US</td>\n",
       "      <td>[[[6, 4, 9, 5, 7, 1, 0, 3, 8, 20, 52, 75, 81, ...</td>\n",
       "      <td>6472940805685248</td>\n",
       "      <td>True</td>\n",
       "      <td>2017-03-20 12:35:23.909920</td>\n",
       "      <td>sleeping bag</td>\n",
       "    </tr>\n",
       "    <tr>\n",
       "      <th>119690</th>\n",
       "      <td>US</td>\n",
       "      <td>[[[110, 61, 7, 0, 3, 39, 67, 203, 239, 248, 25...</td>\n",
       "      <td>4832181660680192</td>\n",
       "      <td>True</td>\n",
       "      <td>2017-03-27 02:42:21.736190</td>\n",
       "      <td>sleeping bag</td>\n",
       "    </tr>\n",
       "  </tbody>\n",
       "</table>\n",
       "<p>119691 rows × 6 columns</p>\n",
       "</div>"
      ],
      "text/plain": [
       "       countrycode                                            drawing  \\\n",
       "0               US  [[[92, 91, 82, 69, 64, 56, 28, 15, 6, 0, 1, 18...   \n",
       "1               US  [[[52, 22, 12, 5, 1, 0, 5, 26, 149, 184, 230, ...   \n",
       "2               AU  [[[4, 3, 11, 22, 38, 63, 251, 255, 251, 252, 2...   \n",
       "3               BR  [[[4, 183, 191, 202, 204, 201, 189, 10, 3, 0, ...   \n",
       "4               US  [[[64, 67], [57, 114]], [[64, 91, 163], [57, 6...   \n",
       "...            ...                                                ...   \n",
       "119686          US  [[[11, 35, 107, 164, 198, 190, 188, 192, 182, ...   \n",
       "119687          US  [[[4, 29, 56, 136, 171, 185, 238, 254, 255, 24...   \n",
       "119688          FI  [[[230, 196, 174, 123, 23, 10], [18, 16, 6, 7,...   \n",
       "119689          US  [[[6, 4, 9, 5, 7, 1, 0, 3, 8, 20, 52, 75, 81, ...   \n",
       "119690          US  [[[110, 61, 7, 0, 3, 39, 67, 203, 239, 248, 25...   \n",
       "\n",
       "                  key_id  recognized                   timestamp          word  \n",
       "0       4745881255411712        True  2017-03-10 13:46:31.635970  sleeping bag  \n",
       "1       4859794726846464       False  2017-03-04 17:08:46.745630  sleeping bag  \n",
       "2       4573190200229888        True  2017-03-17 06:36:27.083520  sleeping bag  \n",
       "3       5103637015560192        True  2017-03-26 20:34:57.242880  sleeping bag  \n",
       "4       6037379364159488       False  2017-03-01 01:39:06.642580  sleeping bag  \n",
       "...                  ...         ...                         ...           ...  \n",
       "119686  5773585861836800        True  2017-03-12 02:27:03.268360  sleeping bag  \n",
       "119687  4697827487776768        True  2017-01-26 22:46:07.644720  sleeping bag  \n",
       "119688  5566971963768832        True  2017-03-06 10:29:33.236430  sleeping bag  \n",
       "119689  6472940805685248        True  2017-03-20 12:35:23.909920  sleeping bag  \n",
       "119690  4832181660680192        True  2017-03-27 02:42:21.736190  sleeping bag  \n",
       "\n",
       "[119691 rows x 6 columns]"
      ]
     },
     "execution_count": 1,
     "metadata": {},
     "output_type": "execute_result"
    }
   ],
   "source": [
    "import numpy as np \n",
    "import pandas as pd \n",
    "import matplotlib.pyplot as plt\n",
    "import ast\n",
    "import os\n",
    "from glob import glob\n",
    "from tqdm import tqdm\n",
    "from dask import bag\n",
    "import cv2\n",
    "import tensorflow as tf\n",
    "from tensorflow import keras\n",
    "from keras.models import Sequential\n",
    "from keras.layers import Dense, Activation\n",
    "from keras.layers import Conv2D, MaxPooling2D, Dropout, Flatten, AveragePooling2D\n",
    "from keras.callbacks import ModelCheckpoint, ReduceLROnPlateau\n",
    "from keras.metrics import top_k_categorical_accuracy\n",
    "import os\n",
    "from tqdm import tqdm\n",
    "\n",
    "path = os.listdir('/kaggle/input/quickdraw-doodle-recognition/train_simplified')\n",
    "path\n",
    "df = pd.read_csv('/kaggle/input/quickdraw-doodle-recognition/train_simplified/'+path[0])\n",
    "df"
   ]
  },
  {
   "cell_type": "markdown",
   "metadata": {},
   "source": [
    "open_cv를 이용 이미지 그려주기\n",
    "word에 띄어쓰기  '_' 로변경하기 \n",
    "tmp설정후 이미지확인"
   ]
  },
  {
   "cell_type": "code",
   "execution_count": 2,
   "metadata": {},
   "outputs": [
    {
     "name": "stdout",
     "output_type": "stream",
     "text": [
      "[[0.   0.   0.25 ... 0.   0.   0.  ]\n",
      " [1.   1.   0.   ... 0.   0.   0.  ]\n",
      " [1.   0.   0.5  ... 0.   0.   0.  ]\n",
      " ...\n",
      " [0.   0.   0.   ... 1.   1.   1.  ]\n",
      " [0.   0.   0.   ... 0.   0.   0.  ]\n",
      " [0.   0.   0.   ... 0.   0.   0.  ]]\n"
     ]
    },
    {
     "data": {
      "image/png": "[encoded data removed]",
      "text/plain": [
       "<Figure size 432x288 with 1 Axes>"
      ]
     },
     "metadata": {
      "needs_background": "light"
     },
     "output_type": "display_data"
    }
   ],
   "source": [
    "def stroke_to_img(strokes): \n",
    "    img=np.zeros((256,256))\n",
    "    for each in ast.literal_eval(strokes):\n",
    "        for i in range(len(each[0])-1):\n",
    "            cv2.line(img,(each[0][i],each[1][i]),(each[0][i+1],each[1][i+1]),255,5)\n",
    "    img=cv2.resize(img,(32,32))\n",
    "    img=img/255\n",
    "    return img\n",
    "\n",
    "tmp = df['drawing'][8]\n",
    "df['word']= df['word'].replace(' ','_',regex = True)\n",
    "img = np.array(stroke_to_img(tmp))\n",
    "plt.imshow(img)\n",
    "print(img)"
   ]
  },
  {
   "cell_type": "code",
   "execution_count": 3,
   "metadata": {},
   "outputs": [],
   "source": [
    "rd=np.random.randint(340)#340까지의 수 중에 난수생성\n",
    "nums2names={i : v[:-4].replace(' ','_') for i , v in enumerate(path)}#불러온 데이터에 index 번호붙이기\n",
    "ranclass=nums2names[rd]# 340까지의 수중에 랜덤으로 불러오기  \n",
    "ranclass=ranclass.replace('_',' ')# 분류 제목을 _을 ' '로 바꿔주기\n",
    "rdpath='/kaggle/input/quickdraw-doodle-recognition/train_simplified/'+ranclass+'.csv' #랜덤으로 하나의 클래스 경로설정\n",
    "one=pd.read_csv(rdpath,usecols=['drawing','recognized','word'],nrows=10) #10개 행의 drawing recognized word 불러오기\n",
    "one=one[one.recognized==True].head(2)#그림 중 true인것 2개만불러오기\n",
    "name=one['word'].head(1)#one의 첫번째 word \n",
    "strk=one['drawing']# one 의 drawing #2개\n",
    "pic=[]\n",
    "for s in strk:\n",
    "    pic.append(stroke_to_img(s))\n",
    "    #pic에 그려준것 추가하기\n",
    "name=name.values\n"
   ]
  },
  {
   "cell_type": "markdown",
   "metadata": {},
   "source": [
    "데이터 추가 하기 "
   ]
  },
  {
   "cell_type": "code",
   "execution_count": 4,
   "metadata": {},
   "outputs": [],
   "source": [
    "train_grand=[]\n",
    "num_class = 340\n",
    "per_class=2000"
   ]
  },
  {
   "cell_type": "code",
   "execution_count": 5,
   "metadata": {},
   "outputs": [
    {
     "name": "stderr",
     "output_type": "stream",
     "text": [
      "100%|██████████| 340/340 [09:26<00:00,  1.67s/it]\n"
     ]
    }
   ],
   "source": [
    "class_paths = glob('/kaggle/input/quickdraw-doodle-recognition/train_simplified/*.csv')\n",
    "for i , c in enumerate(tqdm(class_paths[0:num_class])): \n",
    "    train=pd.read_csv(c,usecols=['drawing','recognized'],nrows=per_class*2)\n",
    "    train=train[train.recognized==True].head(per_class)\n",
    "    imagebag=bag.from_sequence(train.drawing.values).map(stroke_to_img)\n",
    "    train_array=np.array(imagebag.compute())#unmpy 형식 \n",
    "    train_array=np.reshape(train_array,(per_class,-1))  #2000  -1로 reshpae로 행렬 형식 변경 그림형식    \n",
    "    label_array=np.full((train.shape[0],1),i)# label 붙여주기 , train.shape[0] = 2000\n",
    "    train_array=np.concatenate((label_array,train_array),axis=1)\n",
    "    train_grand.append(train_array)\n",
    "del train_array\n",
    "del label_array\n"
   ]
  },
  {
   "cell_type": "code",
   "execution_count": 6,
   "metadata": {},
   "outputs": [],
   "source": [
    "train_grand=np.array([train_grand.pop() for i in np.arange(num_class)]) #데이터 세팅"
   ]
  },
  {
   "cell_type": "code",
   "execution_count": 7,
   "metadata": {},
   "outputs": [],
   "source": [
    "height = 32\n",
    "width = 32"
   ]
  },
  {
   "cell_type": "code",
   "execution_count": 8,
   "metadata": {},
   "outputs": [
    {
     "name": "stdout",
     "output_type": "stream",
     "text": [
      "[[339.   0.   0. ...   0.   0.   0.]\n",
      " [339.   0.   0. ...   0.   0.   0.]\n",
      " [339.   0.   0. ...   0.   0.   0.]\n",
      " ...\n",
      " [  0.   0.   0. ...   0.   0.   0.]\n",
      " [  0.   0.   0. ...   0.   0.   0.]\n",
      " [  0.   0.   0. ...   0.   0.   0.]]\n"
     ]
    }
   ],
   "source": [
    "train_grand=train_grand.reshape((-1,(height*width+1))) #32*32로 배열 변경\n",
    "print(train_grand)"
   ]
  },
  {
   "cell_type": "markdown",
   "metadata": {},
   "source": [
    "setting to ( training set :  test set ) =  ( 9 : 1  )"
   ]
  },
  {
   "cell_type": "code",
   "execution_count": 9,
   "metadata": {},
   "outputs": [
    {
     "name": "stdout",
     "output_type": "stream",
     "text": [
      "68000\n",
      "(612000,) \n",
      " (612000, 32, 32, 1) \n",
      " (68000,) \n",
      " (68000, 32, 32, 1)\n"
     ]
    }
   ],
   "source": [
    "specific = 0.1 \n",
    "sequence_length = 50\n",
    "cut = int(specific * train_grand.shape[0])\n",
    "print(cut)\n",
    "\n",
    "np.random.shuffle(train_grand)\n",
    "y_train, X_train = train_grand[cut: , 0], train_grand[cut: , 1:]\n",
    "y_val, X_val = train_grand[0:cut, 0], train_grand[0:cut, 1:]\n",
    "\n",
    "# del train_grand\n",
    "\n",
    "x_train=X_train.reshape(X_train.shape[0],height,width,1)\n",
    "x_val=X_val.reshape(X_val.shape[0],height,width,1)\n",
    "\n",
    "print(y_train.shape, \"\\n\",\n",
    "      x_train.shape, \"\\n\",\n",
    "      y_val.shape, \"\\n\",\n",
    "      x_val.shape)\n",
    "\n"
   ]
  },
  {
   "cell_type": "code",
   "execution_count": 10,
   "metadata": {},
   "outputs": [
    {
     "name": "stdout",
     "output_type": "stream",
     "text": [
      "Model: \"sequential_1\"\n",
      "_________________________________________________________________\n",
      "Layer (type)                 Output Shape              Param #   \n",
      "=================================================================\n",
      "conv2d_1 (Conv2D)            (None, 32, 32, 32)        320       \n",
      "_________________________________________________________________\n",
      "max_pooling2d_1 (MaxPooling2 (None, 16, 16, 32)        0         \n",
      "_________________________________________________________________\n",
      "conv2d_2 (Conv2D)            (None, 16, 16, 64)        18496     \n",
      "_________________________________________________________________\n",
      "max_pooling2d_2 (MaxPooling2 (None, 8, 8, 64)          0         \n",
      "_________________________________________________________________\n",
      "conv2d_3 (Conv2D)            (None, 8, 8, 128)         73856     \n",
      "_________________________________________________________________\n",
      "average_pooling2d_1 (Average (None, 4, 4, 128)         0         \n",
      "_________________________________________________________________\n",
      "dropout_1 (Dropout)          (None, 4, 4, 128)         0         \n",
      "_________________________________________________________________\n",
      "conv2d_4 (Conv2D)            (None, 4, 4, 128)         147584    \n",
      "_________________________________________________________________\n",
      "max_pooling2d_3 (MaxPooling2 (None, 2, 2, 128)         0         \n",
      "_________________________________________________________________\n",
      "flatten_1 (Flatten)          (None, 512)               0         \n",
      "_________________________________________________________________\n",
      "dense_1 (Dense)              (None, 4096)              2101248   \n",
      "_________________________________________________________________\n",
      "dropout_2 (Dropout)          (None, 4096)              0         \n",
      "_________________________________________________________________\n",
      "dense_2 (Dense)              (None, 340)               1392980   \n",
      "=================================================================\n",
      "Total params: 3,734,484\n",
      "Trainable params: 3,734,484\n",
      "Non-trainable params: 0\n",
      "_________________________________________________________________\n"
     ]
    }
   ],
   "source": [
    "model = Sequential()\n",
    "model.add(Conv2D(32,kernel_size=(3,3),padding='same',activation='relu',input_shape=(height,width,1)))\n",
    "model.add(MaxPooling2D(pool_size=(2,2)))\n",
    "model.add(Conv2D(64,kernel_size=(3,3),padding='same',activation='relu'))\n",
    "model.add(MaxPooling2D(pool_size=(2,2)))\n",
    "model.add(Conv2D(128,kernel_size=(3,3),padding='same',activation='relu'))\n",
    "model.add(AveragePooling2D(pool_size=(2,2)))\n",
    "model.add(Dropout(0.1))\n",
    "model.add(Conv2D(128,kernel_size=(3,3),padding='same',activation='relu'))\n",
    "model.add(MaxPooling2D(pool_size=(2,2)))\n",
    "model.add(Flatten())\n",
    "model.add(Dense(4096,activation='relu'))\n",
    "model.add(Dropout(0.2))\n",
    "model.add(Dense(num_class,activation='softmax'))\n",
    "model.summary()\n"
   ]
  },
  {
   "cell_type": "code",
   "execution_count": 11,
   "metadata": {},
   "outputs": [],
   "source": [
    "def top_3_accuracy(y_true, y_pred):\n",
    "    return top_k_categorical_accuracy(y_true, y_pred, k=3)"
   ]
  },
  {
   "cell_type": "code",
   "execution_count": 12,
   "metadata": {},
   "outputs": [
    {
     "name": "stdout",
     "output_type": "stream",
     "text": [
      "Train on 612000 samples, validate on 68000 samples\n",
      "Epoch 1/20\n",
      "612000/612000 [==============================] - 133s 218us/step - loss: 2.1670 - accuracy: 0.4675 - top_3_accuracy: 0.0085 - val_loss: 1.5490 - val_accuracy: 0.5919 - val_top_3_accuracy: 0.0094\n",
      "Epoch 2/20\n",
      "612000/612000 [==============================] - 130s 212us/step - loss: 1.5196 - accuracy: 0.5961 - top_3_accuracy: 0.0095 - val_loss: 1.4108 - val_accuracy: 0.6236 - val_top_3_accuracy: 0.0157\n",
      "Epoch 3/20\n",
      "612000/612000 [==============================] - 128s 210us/step - loss: 1.3920 - accuracy: 0.6234 - top_3_accuracy: 0.0095 - val_loss: 1.3241 - val_accuracy: 0.6465 - val_top_3_accuracy: 0.0085\n",
      "Epoch 4/20\n",
      "612000/612000 [==============================] - 128s 208us/step - loss: 1.3287 - accuracy: 0.6382 - top_3_accuracy: 0.0095 - val_loss: 1.2984 - val_accuracy: 0.6526 - val_top_3_accuracy: 0.0077\n",
      "Epoch 5/20\n",
      "456448/612000 [=====================>........] - ETA: 31s - loss: 0.9065 - accuracy: 0.7374 - top_3_accuracy: 0.0095"
     ]
    }
   ],
   "source": [
    "reduceLROnPlat=ReduceLROnPlateau(monitor='val_loss',factor=0.5,patience=3,\n",
    "                                 verbose=1,mode='auto',min_delta=0.005,\n",
    "                                 cooldown=5,min_lr=0.0001)\n",
    "\n",
    "callbacks=[reduceLROnPlat]\n",
    "\n",
    "model.compile(loss='sparse_categorical_crossentropy',optimizer='adam',\n",
    "              metrics=['accuracy',top_3_accuracy])\n",
    "\n",
    "history=model.fit(x=x_train,y=y_train,batch_size=32,epochs=20,\n",
    "                  validation_data=(x_val,y_val),callbacks=callbacks,verbose=1)"
   ]
  },
  {
   "cell_type": "code",
   "execution_count": 13,
   "metadata": {},
   "outputs": [
    {
     "data": {
      "image/png": "[encoded data removed]",
      "text/plain": [
       "<Figure size 432x288 with 1 Axes>"
      ]
     },
     "metadata": {
      "needs_background": "light"
     },
     "output_type": "display_data"
    },
    {
     "data": {
      "image/png": "[encoded data removed]",
      "text/plain": [
       "<Figure size 432x288 with 1 Axes>"
      ]
     },
     "metadata": {
      "needs_background": "light"
     },
     "output_type": "display_data"
    }
   ],
   "source": [
    "acc=history.history['accuracy']\n",
    "val_acc=history.history['val_accuracy']\n",
    "loss= history.history['loss']\n",
    "val_loss=history.history['val_loss']\n",
    "\n",
    "epochs=range(1,len(acc)+1)\n",
    "\n",
    "plt.plot(epochs,acc,label='Training acc')\n",
    "plt.plot(epochs,val_acc,label='Validation acc')\n",
    "plt.title('Training and validation accuracy')\n",
    "plt.legend()\n",
    "\n",
    "plt.figure()\n",
    "\n",
    "plt.plot(epochs,loss,label='Training loss')\n",
    "plt.plot(epochs,val_loss,label='Validation loss')\n",
    "plt.title('Training and validation loss')\n",
    "plt.legend()\n",
    "\n",
    "plt.show()"
   ]
  },
  {
   "cell_type": "code",
   "execution_count": 14,
   "metadata": {},
   "outputs": [
    {
     "name": "stderr",
     "output_type": "stream",
     "text": [
      "100%|██████████| 55/55 [02:16<00:00,  2.49s/it]\n"
     ]
    }
   ],
   "source": [
    "list=[]\n",
    "reader=pd.read_csv('/kaggle/input/quickdraw-doodle-recognition/test_simplified.csv',index_col=['key_id'],chunksize=2048)\n",
    "for chunk in tqdm(reader,total=55):\n",
    "    imagebag=bag.from_sequence(chunk.drawing.values).map(stroke_to_img)\n",
    "    testarray=np.array(imagebag.compute())\n",
    "    testarray=np.reshape(testarray,(testarray.shape[0],height,width,1))\n",
    "    testpreds=model.predict(testarray,verbose=0)\n",
    "    s=np.argsort(-testpreds)[:,0:3]\n",
    "    list.append(s)\n",
    "array=np.concatenate(list)\n",
    "pred_df=pd.DataFrame({'first': array[:,0],'second':array[:,1],'third':array[:,2]})\n",
    "pred_df=pred_df.replace(nums2names)\n",
    "pred_df['words']=pred_df['first']+' '+pred_df['second']+' '+pred_df['third']\n",
    "\n",
    "sub=pd.read_csv('/kaggle/input/quickdraw-doodle-recognition/sample_submission.csv',index_col=['key_id'])\n",
    "sub['word']=pred_df.words.values\n",
    "sub.to_csv('result_of_mission.csv')"
   ]
  },
  {
   "cell_type": "code",
   "execution_count": 15,
   "metadata": {},
   "outputs": [
    {
     "data": {
      "text/html": [
       "<div>\n",
       "<style scoped>\n",
       "    .dataframe tbody tr th:only-of-type {\n",
       "        vertical-align: middle;\n",
       "    }\n",
       "\n",
       "    .dataframe tbody tr th {\n",
       "        vertical-align: top;\n",
       "    }\n",
       "\n",
       "    .dataframe thead th {\n",
       "        text-align: right;\n",
       "    }\n",
       "</style>\n",
       "<table border=\"1\" class=\"dataframe\">\n",
       "  <thead>\n",
       "    <tr style=\"text-align: right;\">\n",
       "      <th></th>\n",
       "      <th>word</th>\n",
       "    </tr>\n",
       "    <tr>\n",
       "      <th>key_id</th>\n",
       "      <th></th>\n",
       "    </tr>\n",
       "  </thead>\n",
       "  <tbody>\n",
       "    <tr>\n",
       "      <th>9000003627287624</th>\n",
       "      <td>radio stereo cooler</td>\n",
       "    </tr>\n",
       "    <tr>\n",
       "      <th>9000010688666847</th>\n",
       "      <td>hockey_puck pool bottlecap</td>\n",
       "    </tr>\n",
       "    <tr>\n",
       "      <th>9000023642890129</th>\n",
       "      <td>The_Great_Wall_of_China castle camel</td>\n",
       "    </tr>\n",
       "    <tr>\n",
       "      <th>9000038588854897</th>\n",
       "      <td>mountain pliers roller_coaster</td>\n",
       "    </tr>\n",
       "    <tr>\n",
       "      <th>9000052667981386</th>\n",
       "      <td>fireplace campfire leaf</td>\n",
       "    </tr>\n",
       "  </tbody>\n",
       "</table>\n",
       "</div>"
      ],
      "text/plain": [
       "                                                  word\n",
       "key_id                                                \n",
       "9000003627287624                   radio stereo cooler\n",
       "9000010688666847            hockey_puck pool bottlecap\n",
       "9000023642890129  The_Great_Wall_of_China castle camel\n",
       "9000038588854897        mountain pliers roller_coaster\n",
       "9000052667981386               fireplace campfire leaf"
      ]
     },
     "execution_count": 15,
     "metadata": {},
     "output_type": "execute_result"
    }
   ],
   "source": [
    "sub.head()"
   ]
  },
  {
   "cell_type": "code",
   "execution_count": null,
   "metadata": {},
   "outputs": [],
   "source": []
  }
 ],
 "metadata": {
  "kernelspec": {
   "display_name": "Python 3",
   "language": "python",
   "name": "python3"
  },
  "language_info": {
   "codemirror_mode": {
    "name": "ipython",
    "version": 3
   },
   "file_extension": ".py",
   "mimetype": "text/x-python",
   "name": "python",
   "nbconvert_exporter": "python",
   "pygments_lexer": "ipython3",
   "version": "3.6.6"
  }
 },
 "nbformat": 4,
 "nbformat_minor": 1
}
